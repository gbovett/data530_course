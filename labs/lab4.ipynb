{
 "cells": [
  {
   "cell_type": "markdown",
   "metadata": {},
   "source": [
    "# DATA 530 Lab 4 - Libraries, Debugging, and Getting Help\n",
    "\n",
    "This lab practices using libraries, debugging code, and getting help.\n",
    "\n",
    "## Objectives\n",
    "\n",
    "- Import and use libraries in R and Python.\n",
    "- Perform debugging on Python and R code.\n",
    "- Use the built-in help in R.\n",
    "- Use online resources such as Stack Overflow to find/request help.\n",
    "- Practice with command-line interfaces\n",
    "- Create and navigate directories\n",
    "- Create, modify, rename and delete files\n",
    "- Understand Git and Git fundamentals"
   ]
  },
  {
   "cell_type": "markdown",
   "metadata": {},
   "source": [
    "## Part 1: Bash Crawl"
   ]
  },
  {
   "cell_type": "markdown",
   "metadata": {},
   "source": [
    "Here is a [video walkthrough](https://www.youtube-nocookie.com/embed/QtxwgG2u6Uc) of the first few steps of the activity.\n",
    "\n",
    "The written portion is written below:\n",
    "\n",
    "### Setting up for the game\n",
    "\n",
    "1. Open a Terminal window.\n",
    "2. Change the directory to where this file is: `cd /path/to/this/folder`.\n",
    "3. Type `ls` into the Terminal; you will see two things: `README.md` and the `entrance` directory.\n",
    "4. Once you go into the `entrance` directory (`cd entrance`), the command line based game will begin!\n",
    "\n",
    "**Tip: When I say \"go into the <BLANK>\" room, I mean change directories using `cd <BLANK>`. In this game, a \"room\" is a \"directory\".**\n",
    "\n",
    "### Starting the game\n",
    "\n",
    "5. Now that you have entered the dungeon `entrance`, you should type `ls` in the terminal to look around and see what's there.\n",
    "6. You will see there are two \"things\" in this room,  there is a `scroll`, and another room called `cellar`.\n",
    "7. Let's read the scroll using `cat scroll`.\n",
    "\n",
    "**Tip: When I say \"read the scroll\", I mean output the contents of the scroll file into the Terminal using `cat scroll`.**\n",
    "\n",
    "8. Great! The scroll told us that we can look and see what's in the room using `ls` and move in and out of rooms using `cd <directory>`. Let's go into the cellar: `cd cellar`.\n",
    "\n",
    "9. Once we're in the `cellar`, let's have a look around: `ls`. You should see an `armoury`, a `scroll`, and some `treasure`.\n",
    "\n",
    "10. Let's read the scroll: `cat scroll`. It should tell you about `ls -F`. Here is some more information about `ls -F`:\n",
    "\n",
    "> Display a slash (`/') immediately after each pathname that is a directory, an asterisk ('*') after each that is executable, an AT sign ('@') after each symbolic link. \n",
    "\n",
    "11. That sounds useful, let's do an `ls -F` in the cellar to see what each of the things are. You'll notice that the armoury is another room, the scroll is just a file, and the treasure has a \"*\" at the end, so it's an executable. Cool! We don't know what to do with the executable yet, but let's try `cat treasure` to see what happens.\n",
    "\n",
    "12. Mm. Didn't work - okay let's move on and come back to this room later. Let's go into the `armoury` now: `cd armoury` and then `ls -F`.\n",
    "\n",
    "13. We see another scroll (and a potion, a treasure, and another room)! Let's read the scroll: `cat scroll`.\n",
    "\n",
    "14. Oooh, we have now learned how to collect `treasure`! Let's do that in the armoury and follow the instructions to keep our treasure (using environment variables).\n",
    "\n",
    "**Tip: When I say \"pick up the <BLANK>\", I mean run the executable file using `./ <BLANK>`.**\n",
    "\n",
    "15. It tells us to go back and get the treasure from the cellar! Let's go and do that now with `cd ..`, pick up the treasure from the cellar, and then come back to the armoury.\n",
    "\n",
    "16. The potion is also something we can \"pick up\", so let's go ahead and do that. It asks us if you want to drink it: type 'Y' for yes, and anything else for no (like 'n'). Choose an option and see what happens (follow on-screen instructions!)\n",
    "\n",
    "17. Alright check if there's anything else to do this in room, if not, head to the `chamber` next. Start with `ls -F` and hopefully by now, you know the drill!\n",
    "\n",
    "18. Have fun! More dungeon rooms will open up as you complete certain tasks, kill certain monsters, and read specific scrolls and tomes. Have fun with it, this is your opportunity to practice your Terminal skills - it sure beats the way I learned Terminal commands (blindly typing in commands in a black box until I got it to do what I wanted!). There is no need to hit **every** room in the dungeon, but do make a concerted effort and you'll likely get most of the marks for this lab.\n",
    "\n",
    "**Tip: You can ignore a few of the more \"advanced\" entries of the Tome, including anything related to `tmux` or `gzip`. I say \"pick up the <BLANK>\", I mean run the executable file using `./ <BLANK>`.**\n",
    "\n",
    "### What you need to submit for Part 1.\n",
    "\n",
    "When you're done exploring the dungeon there are several things I want you to do:\n",
    "\n",
    "#### 1. Commit everything to your repository and push to the cloud:\n",
    "\n",
    "```\n",
    "git add .\n",
    "git commit -m \"Finished playing with the dungeon\"\n",
    "git push\n",
    "```\n",
    "\n",
    "#### 2. Run `tree`, and save the output to a file:\n",
    "\n",
    "**Update**: This has been made optional because it's not trivial to install `tree` on Windows. [This page](http://gnuwin32.sourceforge.net/packages/tree.htm) has some directions if you're interested in installing it.\n",
    "\n",
    "You may need to install tree (if you didn't already do it in the dungeon) with: `conda install -c conda-forge tree`\n",
    "\n",
    "```\n",
    "tree\n",
    "tree > mydungeonmap.md\n",
    "```\n",
    "\n",
    "#### 3. Commit the dungeon map to your repository \n",
    "\n",
    "Run the following commands in your Terminal:\n",
    "\n",
    "```\n",
    "git add .\n",
    "git commit -m \"Added my dungeon map\"\n",
    "git push\n",
    "```\n",
    "\n",
    "#### 4. Save the last 100 commands from your Terminal\n",
    "\n",
    "We want to see some serious effort with the dungeon map, so we are asking for the last 100 commands you entered into the Terminal.\n",
    "Please open this file and do a quick check to make sure there is no sensitive information in this file (like passwords or private messages).\n",
    "If there is, you can simply edit file or remove that command.\n",
    "\n",
    "**Note: Just because we're asking for the last 100 commands doesn't mean that we expect you to have 100 commands, you may have less and you may have more. That's fine.**\n",
    "\n",
    "```\n",
    "history 100 > dungeonHistory.md\n",
    "```\n",
    "#### 5. Commit the dungeon history to your repository \n",
    "\n",
    "Run the following commands in your Terminal:\n",
    "\n",
    "```\n",
    "git add .\n",
    "git commit -m \"Added my dungeon history\"\n",
    "git push\n",
    "```"
   ]
  },
  {
   "cell_type": "markdown",
   "metadata": {},
   "source": [
    "## Part 2: Debugging and Libraries"
   ]
  },
  {
   "cell_type": "markdown",
   "metadata": {},
   "source": [
    "### Question #1 - Python Library (3 marks)\n",
    "\n",
    "Find a library that can read JSON data. Write a Python program that uses this library to read the [data JSON file](provdata.json) and print out the province with the largest population."
   ]
  },
  {
   "cell_type": "code",
   "execution_count": 3,
   "metadata": {},
   "outputs": [],
   "source": [
    "### Your answer here"
   ]
  },
  {
   "cell_type": "markdown",
   "metadata": {},
   "source": [
    "### Question #2 - R Library (3 marks)\n",
    "\n",
    "Repeat question #2 for R. Find a library that can read JSON data. Write an R program that uses this library to read the [data JSON file](provdata.json) and print out the province with the largest population."
   ]
  },
  {
   "cell_type": "code",
   "execution_count": 4,
   "metadata": {},
   "outputs": [],
   "source": [
    "### Name of your .R file (in this repository)"
   ]
  },
  {
   "cell_type": "markdown",
   "metadata": {},
   "source": [
    "### Question #3 - Debugging (3 marks)\n",
    "\n",
    "Debugging involves finding errors in code that is not working properly. Three types of errors:\n",
    "\n",
    "1. Syntax errors - are identified when the code is run and will cause an error due to incorrect commands\n",
    "2. Logic errors - occur when code has correct syntax but does not function as expected\n",
    "3. Exceptions - occur when a run-time event causing an error is not handled by the code (try-except)\n",
    "\n",
    "Indicate how to fix the following code programs and indicate what kind of error(s) occurred."
   ]
  },
  {
   "cell_type": "markdown",
   "metadata": {},
   "source": [
    "#### Code Sample 1\n",
    "```\n",
    "# Prints the numbers from 1 to 10\n",
    "for i in range(1,10)\n",
    "  print(i)\n",
    " ```\n",
    " "
   ]
  },
  {
   "cell_type": "code",
   "execution_count": 10,
   "metadata": {},
   "outputs": [],
   "source": [
    "### Your answer here"
   ]
  },
  {
   "cell_type": "markdown",
   "metadata": {},
   "source": [
    "#### Code Sample 2\n",
    "```\n",
    "# Allows user to enter a number until enters STOP. Multiplies number by 2. Handles incorrect user input.\n",
    "num = int(input(\"Enter a number:\"))\n",
    "while num != \"STOP\":  \n",
    "  print(num*2)  \n",
    "  num = int(input(\"Enter a number:\"))\n",
    " ```\n",
    " "
   ]
  },
  {
   "cell_type": "code",
   "execution_count": 11,
   "metadata": {},
   "outputs": [],
   "source": [
    "### Your answer here"
   ]
  },
  {
   "cell_type": "markdown",
   "metadata": {},
   "source": [
    "#### Code Sample 3\n",
    "```\n",
    "# Prints out items in a list in between 4 and 8 inclusive\n",
    "data = [6, 5, 3, 4, 7, 1, 8]\n",
    "for i in range(0,len(data)+1):\n",
    "  if data[i] >= 4 && data[i] < 8:\n",
    "    print(\"Data: \")\n",
    "  print(data[i])\n",
    " ```"
   ]
  },
  {
   "cell_type": "code",
   "execution_count": 12,
   "metadata": {},
   "outputs": [],
   "source": [
    "### Your answer here"
   ]
  },
  {
   "cell_type": "markdown",
   "metadata": {},
   "source": [
    "### Question #4 - Create a Stack Overflow account (1 mark)\n",
    "\n",
    "Create an account on [Stack Overflow](https://stackoverflow.com)."
   ]
  },
  {
   "cell_type": "code",
   "execution_count": 13,
   "metadata": {},
   "outputs": [],
   "source": [
    "### Your username here"
   ]
  },
  {
   "cell_type": "markdown",
   "metadata": {},
   "source": [
    "### (Optional) Question 5 (1 mark)\n",
    "\n",
    "See if you can help someone answer a new question in Python or R.\n",
    " \n",
    "Provide a link to your post for the mark."
   ]
  },
  {
   "cell_type": "code",
   "execution_count": 14,
   "metadata": {},
   "outputs": [],
   "source": [
    "### Your answer here"
   ]
  }
 ],
 "metadata": {
  "kernelspec": {
   "display_name": "Python 3",
   "language": "python",
   "name": "python3"
  },
  "language_info": {
   "codemirror_mode": {
    "name": "ipython",
    "version": 3
   },
   "file_extension": ".py",
   "mimetype": "text/x-python",
   "name": "python",
   "nbconvert_exporter": "python",
   "pygments_lexer": "ipython3",
   "version": "3.8.3"
  }
 },
 "nbformat": 4,
 "nbformat_minor": 4
}
